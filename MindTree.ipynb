{
 "cells": [
  {
   "cell_type": "code",
   "execution_count": 3,
   "metadata": {},
   "outputs": [
    {
     "name": "stdout",
     "output_type": "stream",
     "text": [
      "Enter the Number\n",
      "25\n",
      "2\n",
      "3\n",
      "5\n",
      "7\n",
      "11\n",
      "13\n",
      "17\n",
      "19\n",
      "23\n"
     ]
    }
   ],
   "source": [
    "print(\"Enter the Number\")\n",
    "n = int(input())\n",
    "\n",
    "def isPrime(n):\n",
    "    for i in range(2, n//2+1):\n",
    "        if n%i == 0:\n",
    "            return False\n",
    "    return True\n",
    "\n",
    "\n",
    "for a in range(2, n+1):\n",
    "    if a == 2:\n",
    "        print(a)\n",
    "    elif a > 2:\n",
    "        if isPrime(a):\n",
    "            print(a)\n"
   ]
  },
  {
   "cell_type": "code",
   "execution_count": null,
   "metadata": {},
   "outputs": [],
   "source": [
    "from pyskark.sql import SparkSession\n",
    "spark = SparkSession.builder.appName().config().getOrCreate()\n",
    "from pyspark.sql import types\n",
    "sc = spark.sparkContext\n",
    "\n",
    "df1 = spark.read.csv(\"tbl1.csv\")\n",
    "df2 = spark.read.csv(\"tbl2.csv\")\n",
    "\n",
    "// empId \n",
    "df3 = df1.select(\"empId\", \"empName\", \"salary\", \"deptName\")\\\n",
    "         .where(df1.empId not in \n",
    "               (df2.select(\"empId\")).toList())\n",
    "df1.createTempView(\"Tbl1\")\n",
    "df2.createTempView(\"Tbl2\")\n",
    "df4 = spark.sql(\"select * from Tbl1 where empId NOT IN (select distinct empId from TBL2)\");\n"
   ]
  },
  {
   "cell_type": "code",
   "execution_count": null,
   "metadata": {},
   "outputs": [],
   "source": [
    "// Order : OrderId, OrderDate, OrderAmount, CumOrderAmount\n",
    "             1      jan 1        1000         1000   3300\n",
    "             2      jan 1        1100         2100   2300\n",
    "             3      jan 2        500          2600   1200\n",
    "             4      jan 2        700          3300   700\n",
    "            \n",
    "SELECT *\n",
    "FROM TBL\n",
    "INNER JOIN\n",
    "(SELECT *\n",
    "FROM TBL\n",
    "WHERE )\n",
    "\n",
    "SELECT A.ORDERID,\n",
    "       A.ORDERDATE,\n",
    "       A.ORDERAMOUNT\n",
    "FROM (\n",
    "    SELECT ORDERID,\n",
    "            ORDERDATE,\n",
    "            ORDERAMOUNT,\n",
    "            DENSE_RANK() OVER (ORDERAMOUNT ORDER BY ORDERAMOUNT DESC) AS RANK)\n",
    "AS A\n",
    "WHERE RANK = 2\n",
    "        \n",
    "        "
   ]
  }
 ],
 "metadata": {
  "kernelspec": {
   "display_name": "Python 3",
   "language": "python",
   "name": "python3"
  },
  "language_info": {
   "codemirror_mode": {
    "name": "ipython",
    "version": 3
   },
   "file_extension": ".py",
   "mimetype": "text/x-python",
   "name": "python",
   "nbconvert_exporter": "python",
   "pygments_lexer": "ipython3",
   "version": "3.7.3"
  }
 },
 "nbformat": 4,
 "nbformat_minor": 2
}
